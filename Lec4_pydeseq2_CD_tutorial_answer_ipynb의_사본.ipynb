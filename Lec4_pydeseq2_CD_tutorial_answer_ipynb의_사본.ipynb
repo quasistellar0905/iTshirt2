{
  "nbformat": 4,
  "nbformat_minor": 0,
  "metadata": {
    "colab": {
      "provenance": [],
      "include_colab_link": true
    },
    "kernelspec": {
      "name": "python3",
      "display_name": "Python 3"
    },
    "language_info": {
      "name": "python"
    }
  },
  "cells": [
    {
      "cell_type": "markdown",
      "metadata": {
        "id": "view-in-github",
        "colab_type": "text"
      },
      "source": [
        "<a href=\"https://colab.research.google.com/github/quasistellar0905/iTshirt2/blob/master/Lec4_pydeseq2_CD_tutorial_answer_ipynb%EC%9D%98_%EC%82%AC%EB%B3%B8.ipynb\" target=\"_parent\"><img src=\"https://colab.research.google.com/assets/colab-badge.svg\" alt=\"Open In Colab\"/></a>"
      ]
    },
    {
      "cell_type": "markdown",
      "source": [
        "# PyDESeq2 실습\n",
        "tutorial은 PyDESeq2 최신 문서를 참고하였습니다. (링크: https://pydeseq2.readthedocs.io/en/latest/index.html)\n",
        "\n",
        "\n",
        "\n",
        "\n"
      ],
      "metadata": {
        "id": "FoKFgBKYTMzA"
      }
    },
    {
      "cell_type": "markdown",
      "source": [
        "## PyDESeq2 설치\n",
        "pip를 통해 PyDESeq2 라이브러리를 설치합니다"
      ],
      "metadata": {
        "id": "O21sCwwWS8l2"
      }
    },
    {
      "cell_type": "code",
      "source": [
        "!pip install pydeseq2"
      ],
      "metadata": {
        "id": "joJQGjcuS7cn"
      },
      "execution_count": null,
      "outputs": []
    },
    {
      "cell_type": "markdown",
      "source": [
        "## 간단한 PyDESeq2 워크플로우 실습\n",
        "\n",
        "PyDESeq2를 이용하여 bulk RNA-seq 샘플로 differential expression analysis (DEA)를 하는 방법을 알아보겠습니다.\n",
        "\n",
        "우선 필요한 library를 import합니다"
      ],
      "metadata": {
        "id": "MmCmf6EaTBgp"
      }
    },
    {
      "cell_type": "code",
      "source": [
        "from pydeseq2.dds import DeseqDataSet\n",
        "from pydeseq2.ds import DeseqStats\n",
        "from pydeseq2.utils import load_example_data\n",
        "\n",
        "import pandas as pd"
      ],
      "metadata": {
        "id": "F9sAS9lRTBOn"
      },
      "execution_count": null,
      "outputs": []
    },
    {
      "cell_type": "markdown",
      "source": [
        "## 데이터 로딩\n",
        "DEA을 수행하기 위해, PyDESeq2는 두 종류의 입력을 필요로 합니다:\n",
        "1. 카운트데이터 행렬: read 카운트 (양의 정수)를 포함하는 '샘플 수' x '유전자 수'의 형태\n",
        "2. 메타데이터 행렬: 데이터를 코호트로 분할하는 데 사용될 샘플 주석을 포함하는 '샘플 수' x '변수 수'의 형태\n",
        "\n",
        "둘 다 pandas 데이터프레임으로 제공되어야 합니다.\n",
        "\n",
        "\n",
        "\n",
        "---\n",
        "\n",
        "\n",
        "데이터를 다운받고, 압축을 풀고, 파일을 구글코랩에 업로드합니다.\n",
        "\n",
        "예제 데이터 다운로드 링크: https://drive.google.com/file/d/1Olc2FvdGlJC2G1SwHjb5DstD3ozlB11b/view?usp=sharing\n",
        "\n",
        "본 예제에서는 [GSE70466](https://www.ncbi.nlm.nih.gov/geo/query/acc.cgi?acc=GSE70466) 데이터를 이용합니다.\n",
        "\n"
      ],
      "metadata": {
        "id": "zWRNdMalU1aH"
      }
    },
    {
      "cell_type": "code",
      "source": [
        "counts_df = pd.read_csv(\"./GSE70466-expression.txt\", sep=\"\\t\", index_col=0)\n",
        "metadata = pd.read_csv(\"./GSE70466-metadata.txt\", sep=\"\\t\", index_col=0)"
      ],
      "metadata": {
        "id": "UsHSsXtsU7kW"
      },
      "execution_count": null,
      "outputs": []
    },
    {
      "cell_type": "code",
      "source": [
        "display(counts_df)"
      ],
      "metadata": {
        "id": "JQ22NUvas3pC"
      },
      "execution_count": null,
      "outputs": []
    },
    {
      "cell_type": "code",
      "source": [
        "display(metadata)"
      ],
      "metadata": {
        "id": "r0iM6Bg0c72I"
      },
      "execution_count": null,
      "outputs": []
    },
    {
      "cell_type": "markdown",
      "source": [
        "이 예제에서 metadata는 cell line에 대한 정보를 담고있습니다. normal prostate cell인 PrEC를 control샘플로, prostate cancer cell인 LNCaP를 case샘플로 다룹니다."
      ],
      "metadata": {
        "id": "iuyqGRpYtDmw"
      }
    },
    {
      "cell_type": "markdown",
      "source": [
        "## 데이터 필터링\n",
        "DEA를 진행하기 전에 데이터 전처리를 위하여 표현 수준이 매우 낮은 유전자를 제외합니다. 총 10개 미만의 읽기 카운트를 가진 유전자를 필터링합니다\n"
      ],
      "metadata": {
        "id": "IlxhOJaCteFp"
      }
    },
    {
      "cell_type": "code",
      "source": [
        "genes_to_keep = counts_df.columns[counts_df.sum(axis=0) >= 10]\n",
        "counts_df = counts_df[genes_to_keep]"
      ],
      "metadata": {
        "id": "6duUeAowtcsJ"
      },
      "execution_count": null,
      "outputs": []
    },
    {
      "cell_type": "code",
      "source": [
        "display(counts_df)"
      ],
      "metadata": {
        "id": "72DLSEm1s2Ub"
      },
      "execution_count": null,
      "outputs": []
    },
    {
      "cell_type": "markdown",
      "source": [
        "## DeseqDataSet 클래스를 사용한 read 카운트 모델링\n",
        "우리는 카운트와 메타데이터로부터 DeseqDataSet 객체를 생성하여 시작합니다. DeseqDataSet는 데이터로부터 dispersion 및 log2 fold Change (LFC)를 fitting하고 저장합니다.\n",
        "\n",
        "\n",
        "\n",
        "\n"
      ],
      "metadata": {
        "id": "qvmCuhrxuRwu"
      }
    },
    {
      "cell_type": "code",
      "source": [
        "dds = DeseqDataSet(\n",
        "    counts=counts_df,\n",
        "    metadata=metadata,\n",
        "    design_factors=\"cell line\",\n",
        "    ref_level=[\"cell line\", \"PrEC\"],\n",
        "    refit_cooks=True,\n",
        "    n_cpus=8,\n",
        ")"
      ],
      "metadata": {
        "id": "6z_QRjn0uY4s"
      },
      "execution_count": null,
      "outputs": []
    },
    {
      "cell_type": "markdown",
      "source": [
        "design_factors는 샘플 class 정보가 포함된 metadata 내의 column 이름을 의미합니다.\n",
        "\n",
        "ref_level은 design_factor중 control group을 정의합니다.\n",
        "\n",
        "refit_cooks 인수(기본적으로 True로 설정됨)는 Cooks 이상치가 재적합되어야 하는지를 제어합니다 (일반적으로 권장됨)."
      ],
      "metadata": {
        "id": "v0W-xMvcvnux"
      }
    },
    {
      "cell_type": "markdown",
      "source": [
        "DeseqDataSet가 초기화되면, 우리는 deseq2() 메서드를 실행하여 dispersion과 LFC를 적합시킬 수 있습니다."
      ],
      "metadata": {
        "id": "xMohLWeswG2k"
      }
    },
    {
      "cell_type": "code",
      "source": [
        "dds.deseq2()"
      ],
      "metadata": {
        "id": "xQPDGq9jubg_"
      },
      "execution_count": null,
      "outputs": []
    },
    {
      "cell_type": "markdown",
      "source": [
        "참고로 DeseqDataSet 클래스는 AnnData 클래스를 상속합니다"
      ],
      "metadata": {
        "id": "SNLvkAQmwO08"
      }
    },
    {
      "cell_type": "code",
      "source": [
        "print(dds)"
      ],
      "metadata": {
        "id": "rci4YUC9wKNP"
      },
      "execution_count": null,
      "outputs": []
    },
    {
      "cell_type": "markdown",
      "source": [
        "따라서, 매개변수는 키 기반 데이터 필드를 사용하여 AnnData 데이터 구조에 따라 저장됩니다. 특히,\n",
        "\n",
        "X는 카운트 데이터를 저장합니다,\n",
        "obs는 디자인 요인을 저장합니다,\n",
        "obsm은 \"design_matrix\"와 \"size_factors\"와 같은 샘플 수준의 데이터를 저장합니다,\n",
        "varm은 \"dispersions\"와 \"LFC\"와 같은 유전자 수준의 데이터를 저장합니다.\n",
        "예를 들어, 우리가 dispersion과 LFC에 접근하는 방법은 다음과 같습니다:"
      ],
      "metadata": {
        "id": "IiUuxN3dSBVI"
      }
    },
    {
      "cell_type": "code",
      "source": [
        "print(dds.varm[\"dispersions\"])"
      ],
      "metadata": {
        "id": "pd5DJuYwwbQf"
      },
      "execution_count": null,
      "outputs": []
    },
    {
      "cell_type": "code",
      "source": [
        "display(dds.varm[\"LFC\"])"
      ],
      "metadata": {
        "id": "Vl4ihjCQSGMQ"
      },
      "execution_count": null,
      "outputs": []
    },
    {
      "cell_type": "markdown",
      "source": [
        "## DeseqStats 클래스를 사용한 통계 분석\n",
        "이제 dispersion과 LFC가 fitting 되었으므로, 차등 발현에 대한 p value와 adjusted p value를 계산하기 위한 통계 검정을 진행할 수 있습니다."
      ],
      "metadata": {
        "id": "-z8BOpsYShmX"
      }
    },
    {
      "cell_type": "code",
      "source": [
        "stat_res = DeseqStats(dds, alpha=0.05, n_cpus=8)"
      ],
      "metadata": {
        "id": "p9uX8mL_Sazp"
      },
      "execution_count": null,
      "outputs": []
    },
    {
      "cell_type": "markdown",
      "source": [
        "optional argument들은 아래와 같습니다.\n",
        "\n",
        "alpha: pvalue 및 adjusted pvalue의 유의성 임계값 (기본값은 0.05),\n",
        "\n",
        "cooks_filter: cooks 이상치를 기반으로 p-값을 필터링할지 여부 (기본값은 True),\n",
        "\n",
        "independent_filter: p value추세를 수정하기 위해 독립적인 필터링을 수행할지 여부 (기본값은 True)."
      ],
      "metadata": {
        "id": "50heq30XTKce"
      }
    },
    {
      "cell_type": "markdown",
      "source": [
        "## Wald 검정\n",
        "PyDESeq2는 Wald 검정을 사용하여 p value를 계산합니다. 이것은 summary() 메서드를 사용하여 수행될 수 있으며, 이 메서드는 전체 통계 분석, Cooks 필터링 및 다중 검정 조정을 포함하여 실행됩니다."
      ],
      "metadata": {
        "id": "h2ZOFEKGTlFa"
      }
    },
    {
      "cell_type": "code",
      "source": [
        "stat_res.summary()"
      ],
      "metadata": {
        "id": "jwy8ELQtTVqv"
      },
      "execution_count": null,
      "outputs": []
    },
    {
      "cell_type": "markdown",
      "source": [
        "adjusted pvalue를 기준으로 유의한 gene들을 추려내고, LFC로 sorting합니다"
      ],
      "metadata": {
        "id": "_Rzu78Z2jjLA"
      }
    },
    {
      "cell_type": "code",
      "source": [
        "deseq_results = stat_res.results_df[stat_res.results_df[\"padj\"]<0.05].sort_values(\"log2FoldChange\", ascending=False)\n",
        "display(deseq_results)"
      ],
      "metadata": {
        "id": "nA4CAwEXT6J2"
      },
      "execution_count": null,
      "outputs": []
    },
    {
      "cell_type": "markdown",
      "source": [
        "## 상위 500개 gene 추출\n",
        "\n",
        "case sample에서 over expressed된 상위 500개의 gene과 under expressed된 하위 500개 gene을 추출합니다"
      ],
      "metadata": {
        "id": "DhN9nEeWiRxF"
      }
    },
    {
      "cell_type": "code",
      "source": [
        "up_genes = deseq_results.index[:500].tolist()"
      ],
      "metadata": {
        "id": "YIU61aqUY5IO"
      },
      "execution_count": null,
      "outputs": []
    },
    {
      "cell_type": "code",
      "source": [
        "down_genes = deseq_results.index[-500:].tolist()"
      ],
      "metadata": {
        "id": "1mUO2Z4Qiq0-"
      },
      "execution_count": null,
      "outputs": []
    },
    {
      "cell_type": "markdown",
      "source": [
        "# Characteristic Direction (CD) 실습"
      ],
      "metadata": {
        "id": "T6ottatAmMnX"
      }
    },
    {
      "cell_type": "markdown",
      "source": [
        "## Characteristic Direction (CD) 설치\n",
        "pip를 통해 characteristic direction 라이브러리를 설치합니다"
      ],
      "metadata": {
        "id": "w0a4KB3HmRw4"
      }
    },
    {
      "cell_type": "code",
      "source": [
        "!pip install git+https://github.com/Maayanlab/maayanlab-bioinformatics.git"
      ],
      "metadata": {
        "id": "RZhR1IzumPZm"
      },
      "execution_count": null,
      "outputs": []
    },
    {
      "cell_type": "markdown",
      "source": [
        "필요한 library를 import합니다"
      ],
      "metadata": {
        "id": "yalhsfL4mVwZ"
      }
    },
    {
      "cell_type": "code",
      "source": [
        "from maayanlab_bioinformatics.dge.characteristic_direction import characteristic_direction"
      ],
      "metadata": {
        "id": "vIKfak29mTNP"
      },
      "execution_count": null,
      "outputs": []
    },
    {
      "cell_type": "markdown",
      "source": [
        "# 데이터 전처리\n",
        "CD는 normalized 된 count 데이터를 입력으로 받으며, case matrix와 control matrix를 따로 input으로 받습니다. 각 matrix는 '유전자의 수' x '샘플 수'의 형태입니다."
      ],
      "metadata": {
        "id": "ys09nHXxoKFi"
      }
    },
    {
      "cell_type": "code",
      "source": [
        "normalized_counts_df = pd.DataFrame(dds.layers[\"normed_counts\"], columns=dds.var.index.tolist(), index=dds.obs.index.tolist())"
      ],
      "metadata": {
        "id": "vwuNw7d6n88j"
      },
      "execution_count": null,
      "outputs": []
    },
    {
      "cell_type": "code",
      "source": [
        "ctrl_metadata = dds.obs[dds.obs[\"cell line\"]==\"PrEC\"]\n",
        "case_metadata = dds.obs[dds.obs[\"cell line\"]!=\"PrEC\"]"
      ],
      "metadata": {
        "id": "E3xPpl8Gn8DI"
      },
      "execution_count": null,
      "outputs": []
    },
    {
      "cell_type": "code",
      "source": [
        "ctrl_normalized_counts_df = normalized_counts_df.loc[ctrl_metadata.index,:].T\n",
        "case_normalized_counts_df = normalized_counts_df.loc[case_metadata.index,:].T"
      ],
      "metadata": {
        "id": "8r_fpzQ_oZhV"
      },
      "execution_count": null,
      "outputs": []
    },
    {
      "cell_type": "markdown",
      "source": [
        "## CD 계산\n",
        "첫번째 인자로 control 샘플에 대한 normalized count 데이터를, 두번째 인자로는 case 샘플에 대한 normalized count 데이터를 입력합니다. significance를 계산하기 위해 calculate_sig를 True로 합니다."
      ],
      "metadata": {
        "id": "0izVK4ecqFQX"
      }
    },
    {
      "cell_type": "code",
      "source": [
        "cd_results = characteristic_direction(controls_mat=ctrl_normalized_counts_df, cases_mat=case_normalized_counts_df, calculate_sig=True)\n",
        "display(cd_results)"
      ],
      "metadata": {
        "id": "i1rNc-YPnEpO"
      },
      "execution_count": null,
      "outputs": []
    },
    {
      "cell_type": "markdown",
      "source": [
        "## 유의미한 유전자 추출"
      ],
      "metadata": {
        "id": "GXPoXuMpqsTJ"
      }
    },
    {
      "cell_type": "code",
      "source": [
        "cd_results = cd_results[cd_results[\"Significance\"]<0.05].sort_values(\"CD-coefficient\", ascending=False)\n",
        "display(cd_results)"
      ],
      "metadata": {
        "id": "W2jsRBreqdhw"
      },
      "execution_count": null,
      "outputs": []
    },
    {
      "cell_type": "code",
      "source": [
        "up_genes = cd_results.index[:500].tolist()"
      ],
      "metadata": {
        "id": "uyq7sHBeqw4v"
      },
      "execution_count": null,
      "outputs": []
    },
    {
      "cell_type": "code",
      "source": [
        "down_genes = cd_results.index[-500:].tolist()"
      ],
      "metadata": {
        "id": "MqTFZXCXqzuH"
      },
      "execution_count": null,
      "outputs": []
    },
    {
      "cell_type": "code",
      "source": [],
      "metadata": {
        "id": "0vU2epJIq-zY"
      },
      "execution_count": null,
      "outputs": []
    }
  ]
}