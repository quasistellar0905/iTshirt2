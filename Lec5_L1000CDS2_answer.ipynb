{
  "nbformat": 4,
  "nbformat_minor": 0,
  "metadata": {
    "colab": {
      "provenance": [],
      "include_colab_link": true
    },
    "kernelspec": {
      "name": "python3",
      "display_name": "Python 3"
    },
    "language_info": {
      "name": "python"
    }
  },
  "cells": [
    {
      "cell_type": "markdown",
      "metadata": {
        "id": "view-in-github",
        "colab_type": "text"
      },
      "source": [
        "<a href=\"https://colab.research.google.com/github/quasistellar0905/iTshirt2/blob/master/Lec5_L1000CDS2_answer.ipynb\" target=\"_parent\"><img src=\"https://colab.research.google.com/assets/colab-badge.svg\" alt=\"Open In Colab\"/></a>"
      ]
    },
    {
      "cell_type": "markdown",
      "source": [
        "# ConnectivityMap 실습 및 API\n",
        "\n",
        "https://clue.io/"
      ],
      "metadata": {
        "id": "2aebBtrxrKVA"
      }
    },
    {
      "cell_type": "code",
      "source": [
        "cmap_up_genes = [\"ABCA4\", \"YARS2\", \"ZG16\", \"ZFR2\", \"ABCA8\", \"ZNF551\", \"ZNF267\", \"ZBP1\", \"ABCG5\", \"ACKR4\", \"ACE\", \"ZNF576\"]"
      ],
      "metadata": {
        "id": "crMdoWvZaKyp"
      },
      "execution_count": null,
      "outputs": []
    },
    {
      "cell_type": "code",
      "source": [
        "\n",
        "# Get URL\n",
        "cmap_URL = 'https://api.clue.io/api/jobs'\n",
        "\n",
        "key = \"YOUR KEY HERE\"\n",
        "# Get Data\n",
        "payload = {\"name\":\"test\",\n",
        "            \"uptag-cmapfile\":\"\\t\".join(cmap_up_genes),\n",
        "            \"user_key\":key,\n",
        "            \"tool_id\":\"sig_gutc_tool\",\n",
        "            \"data_type\":\"L1000\",\n",
        "            \"dataset\":\"Touchstone\",\n",
        "            \"ignoreWarnings\":True}\n",
        "\n",
        "# Get result\n",
        "response = requests.post(cmap_URL, json=payload)\n",
        "\n",
        "response.json()\n"
      ],
      "metadata": {
        "id": "PbhxkcaoWBHA"
      },
      "execution_count": null,
      "outputs": []
    },
    {
      "cell_type": "markdown",
      "source": [
        "# L1000CDS2 실습 및 API\n",
        "https://maayanlab.cloud/L1000CDS2/#/index"
      ],
      "metadata": {
        "id": "zFC5Lhzg8yGY"
      }
    },
    {
      "cell_type": "markdown",
      "source": [
        "필요한 함수들을 import합니다"
      ],
      "metadata": {
        "id": "FPVhYaExJJT8"
      }
    },
    {
      "cell_type": "code",
      "source": [
        "import requests\n",
        "import json\n",
        "import pandas as pd"
      ],
      "metadata": {
        "id": "E41K1_L7JIbl"
      },
      "execution_count": null,
      "outputs": []
    },
    {
      "cell_type": "markdown",
      "source": [
        "지난 4강에서 Characteristic Direction으로 구한 up, down query gene signature들을 이용하여 결과를 보겠습니다"
      ],
      "metadata": {
        "id": "FtNtFbNBJRsR"
      }
    },
    {
      "cell_type": "code",
      "source": [
        "# from CD\n",
        "up_genes = ['ABHD2',  'AC010970.2',  'YWHAE',  'XPOT',  'ACACA',  'AARS',  'ZNF664',  'ABCA2',  'ACADVL',  'ABCC4',  'ZBTB7B',  'ACAT1',  'YARS',  'ZNF217',  'ZKSCAN1',  'WSB2',  'WNK1',  'ACADSB',  'ZNF385B',  'XBP1',  'ACO2',  'ABHD10',  'ABCD1',  'YBX1',  'ZBTB10',  'ABCA3',  'AC093838.4',  'ZNF770',  'ACAP3',  'ABCB6',  'ZNF146',  'WWC1',  'ACADL',  'ZG16B',  'AADAT',  'ZC3H11A',  'ZWINT',  'ZNF511',  'ZNF692',  'ZFP62',  'WWP1',  'ZMIZ1',  'ZNF652',  'ZBED3',  'ZNF84',  'ZNF592',  'ABCF3',  'ZFYVE16',  'ABHD12',  'ZDHHC23',  'YTHDF2',  'ZMYM4',  'ZBTB37',  'ACADM',  'ZFAND5',  'YTHDC2',  'XPO7',  'ZNF121',  'WNK2',  'ABCC1',  'ZNF24',  'ZFP91',  'YY1AP1',  'YIPF6',  'ZMYND11',  'ZDHHC4',  'ZMAT2',  'AC097374.2',  'ZC3H14',  'ZBTB41',  'ZNF740',  'XIAP',  'ZCCHC24',  'ABHD4',  'WTAP',  'ZP3',  'YIF1B',  'ZYG11B',  'ACAA1',  'ZFHX3',  'ZZZ3',  'WIZ',  'AC240274.1',  'ZCRB1',  'AC138969.4',  'ZNF721',  'ZNF678',  'ACAP2',  'ZBTB42',  'ZFAND1',  'ZDHHC20',  'ZZEF1',  'ACOT2',  'ZDHHC9',  'ZBTB44',  'ZNF252P',  'ZNF358',  'ZNF445',  'AAAS',  'ZNF714',  'ZACN',  'ZNF32',  'ZNF598',  'ZNF37A',  'ZBTB21',  'ZMYM2',  'ZBTB45',  'ZNF239',  'XPNPEP1',  'ZBTB33',  'ZNF595',  'ZNF263',  'ZCCHC11',  'YTHDC1',  'ZBTB11',  'AAK1',  'ACAD10',  'ZNF621',  'ZNF444',  'ZNF638',  'ZNF862',  'ZDHHC21',  'ZNF639',  'YOD1',  'ABCA7',  'ABCC5',  'XRN1',  'ZNF76',  'ZNF780A',  'ZNF623',  'ZNF587',  'ZNF768',  'WRB',  'ZNF644',  'ZNF552',  'ZNF646',  'ZER1',  'ZBTB1',  'ACOT13',  'YTHDF3',  'ZNF131',  'AC004381.6',  'ZNF33B',  'ZNF3',  'ZNF207',  'ZNF75D',  'ZBTB40',  'ZNF480',  'ZBED5',  'ZNF248',  'ZNF280D',  'ZNF362',  'ZNF384',  'ZNF507',  'ABHD11',  'ZNF106',  'ZHX3',  'ZNF778',  'ZNF512B',  'XPO6',  'YLPM1',  'ZBTB5',  'ZNF354A',  'ZNF232',  'ZFR',  'ZNF672',  'ZXDC',  'WWP2',  'ZNF747',  'ZNF33A',  'ZNF195',  'ZNF316',  'XYLB',  'ZWILCH',  'ZBTB25',  'ZCCHC2',  'YJEFN3',  'ZNF322',  'ZNF780B',  'ZNF148',  'ZFX',  'ZBTB16',  'ZCCHC8',  'ACBD5',  'AAGAB',  'ZNF814',  'ABTB2',  'YEATS4',  'ZNF276',  'ACACB',  'YTHDF1',  'ACADS',  'ZRANB2',  'ZNF766',  'ZFYVE9',  'ACOX1',  'ACAD9',  'ZNF641',  'ZBED4',  'ZHX1',  'ZBTB48',  'XAB2',  'ZNHIT6',  'ZMYND8',  'YIPF1',  'ACBD3',  'ZC2HC1A',  'ZMIZ2',  'ZNF717',  'ZNF839',  'ZNF254',  'YIF1A',  'ZNF202',  'XPNPEP3',  'ZCCHC14',  'ZNF275',  'ZCCHC10',  'ZNF37BP',  'YY1',  'ZSWIM7',  'ZNF331',  'ZC3H10',  'ZSWIM8',  'ACAD8',  'ZSCAN2',  'ZMYM6',  'ZBTB43',  'ZC3H8',  'ZNF497',  'ZNF589',  'ZNF318',  'ZMYND19',  'ZNF266',  'ZRANB1',  'ZBED8',  'ZNF446',  'ZNF397',  'ZNF791',  'ZNF431',  'ZNF41',  'WRAP53',  'ZNF83',  'ABCB7',  'ZNF264',  'ZBTB8OS',  'ZNF7',  'WRAP73',  'ZNF512',  'XPC',  'XPA',  'ZNF260',  'ZMAT1',  'ZBTB18',  'ABHD14B',  'ZNF142',  'ZBTB24',  'ACKR3',  'ZNF143',  'ZNF559',  'ABCD3',  'ZNF92',  'ZNF346',  'ZNF510',  'ZNF546',  'ABHD6',  'ZDHHC11',  'ZNF44',  'ABHD14A',  'ZNF451',  'AC090094.1',  'ZNF213',  'ZCCHC6',  'ZNF30',  'ZNF12',  'ZNF124',  'ZNF761',  'AARSD1',  'ZNHIT3',  'ZSCAN29',  'ZHX2',  'ZFP69B',  'ACIN1',  'ZNF566',  'ZNF48',  'AAR2',  'ZKSCAN5',  'ZNF467',  'ZSWIM1',  'ZNF627',  'ZNF107',  'ABR',  'AC068279.3',  'ZFAND4',  'ZCCHC17',  'AASDH',  'AASDHPPT',  'ZNF891',  'ZDHHC24',  'ZNF189',  'ACOT8',  'ABCC6',  'ZNF609',  'ZNF529',  'YRDC',  'WNT10B',  'ZNF181',  'ZNF398',  'ZNF335',  'ZDHHC12',  'ZNF800',  'ZFYVE19',  'AC024560.3',  'ZSCAN22',  'ZNF337',  'ABHD14A-ACY1',  'ZNF764',  'ZNF251',  'ZNF485',  'ZNF711',  'ZNRD1ASP',  'AC007325.4',  'ZNF562',  'ABAT',  'YPEL2',  'ZNF18',  'ZNF557',  'ZFP41',  'WNK3',  'AACSP1',  'ZNF550',  'ZNF746',  'ZSWIM5',  'ZNF473',  'ZNF138',  'ZNF783',  'ZKSCAN2',  'ACOT1',  'ZNF25',  'ZC3H6',  'ABCB10',  'ZNF830',  'ZNF382',  'XRCC2',  'ZNF776',  'AARS2',  'ACP1',  'ZDHHC2',  'AC125232.1',  'ZDHHC13',  'ZNRF1',  'WTH3DI',  'ZNF708',  'AC009299.4',  'ACBD6',  'ZNF771',  'BP-21264C1.1',  'ZNF695',  'ZNF74',  'ZNF354B',  'ZNF691',  'ZCCHC9',  'A1BG',  'ZFP90',  'YAE1D1',  'ZFY',  'ZNF689',  'ZIC2',  'ZNF26',  'ABHD5',  'AC025335.1',  'ABHD18',  'ZSCAN16',  'ZNF518A',  'ZNF300',  'YEATS2',  'ZNF324B',  'ZADH2',  'ZC2HC1C',  'ZNF518B',  'ZC3HAV1L',  'YIPF4',  'ZNF700',  'AC008522.1',  'ZNF613',  'ZNF674',  'ZNF782',  'ZNF658B',  'ZNF367',  'ZNF333',  'ZNF141',  'ZNF419',  'ZNF302',  'ZNF687',  'ZNF767P',  'ABHD16A',  'ZNF184',  'YAF2',  'ZNF580',  'ABCB8',  'ZRANB3',  'ZBTB26',  'AC009237.8',  'ZCCHC7',  'ZNF410',  'ZNF584',  'ZNF79',  'AC093642.5',  'ZNF8',  'ACOT11',  'ZNF583',  'ZNF586',  'ZBTB22',  'ZNF669',  'ZNF14',  'ZDHHC5',  'ZNF420',  'ZNF852',  'ZNF10',  'ZNF720',  'ZC4H2',  'ZFYVE21',  'ZBTB6',  'ZNF330',  'WT1',  'ZFP30',  'ZNF175',  'ZNF350',  'ABCC8',  'ZNF765',  'ZNF287',  'ZNF605',  'ZFAT',  'ZNF789',  'YY2',  'ZNF75A',  'WWOX',  'ZNF543',  'ZNF391',  'ZMPSTE24',  'ZNF441',  'ZNF174',  'ZNF273',  'ZC3H15',  'ZNF680',  'ZNF2',  'ZBTB46',  'ZNF571',  'ZBTB3',  'ZFYVE1',  'ZCWPW1',  'ZBTB12',  'ZNF786',  'ZIC5',  'ZNF341',  'ZNF808',  'ZNF775',  'ZNF599',  'BP-2189O9.2',  'ZNF611',  'ZNF706',  'ZBTB8A',  'ZKSCAN3',  'ZNF460',  'ZNF524',  'ZNF471',  'ZNF517',  'ZBTB14',  'WNT10A',  'ZNF91',  'ZNF433',  'ACBD7',  'XKR9',  'ZNF653',  'ZNF425',  'ZNF326',  'ZNF268',  'XKR8',  'ZNF567',  'ZSCAN21',  'ZNF414',  'ZNF285',  'ZNF616',  'ZNF280B',  'ZNF883',  'ZNF823',  'ZNF140',  'ZNF654',  'ZFC3H1',  'ZBTB20',  'ZNF212',  'ZPLD1',  'ZNF500',  'ZNF324',  'ZNF784',  'XXYLT1',  'ZNF688',  'ZNF215',  'ZMYND15',  'ZSCAN20',  'ZNF70']\n",
        "down_genes = ['ZNF785',  'AC009060.2',  'ZNF705E',  'AC004980.9',  'ABCA4',  'ZC3H11B',  'AC018804.6',  'ZNF781',  'AC006116.20',  'AC008565.1',  'YARS2',  'ZG16',  'AC010980.2',  'AC019097.7',  'ZNF844',  'AC026348.1',  'AC002429.5',  'ZNF484',  'AC010642.2',  'ZNF890P',  'ZGRF1',  'YWHABP2',  'ZIK1P1',  'AC006116.22',  'ZNRF2',  'ZNF600',  'AC254944.1',  'AC007906.1',  'ZFR2',  'ZNF559-ZNF177',  'ABCA8',  'AC087163.2',  'AC245100.1',  'A2M',  'AC012512.1',  'AC124914.3',  'AC083899.3',  'ZPBP2',  'AC008686.1',  'AADAC',  'AC004383.3',  'ZNF418',  'AC255093.1',  'AC131263.1',  'AC136289.1',  'AC000095.12',  'YWHAEP3',  'ZCCHC18',  'AC005176.2',  'ZNF551',  'ZNF267',  'ZBP1',  'AC007041.2',  'ZNF556',  'AC018892.3',  'AC124312.1',  'BP-21201H5.1',  'ZNRF2P1',  'ZNF576',  'AC016712.1',  'AC141586.5',  'AARD',  'ABC7-42404400C24.1',  'ZNF200',  'WNT9B',  'AC073657.1',  'AC005336.5',  'ZNF90P1',  'ZNF99',  'ZNF230',  'AC002985.3',  'ZBTB12BP',  'AC136352.3',  'YBX1P1',  'AC006978.6',  'AC009245.3',  'ACE',  'AC126544.4',  'AC018755.16',  'ZHX1-C8ORF76',  'AC005517.3',  'AC243687.1',  'YWHAZP2',  'ZP4',  'ACKR4',  'AC005042.2',  'AC079250.1',  'XBP1P1',  'XKRX',  'AADACP1',  'AC107983.4',  'AC006486.9',  'AC016577.1',  'YBX1P10',  'ABCG5',  'AC016142.1',  'AC104981.1',  'AC068522.4',  'ZNF366',  'AC022182.2',  'AC010733.5',  'AC010468.1',  'AC006987.6',  'AC000089.3',  'ZEB1',  'ABI3BP',  'AC004453.8',  'AC006538.4',  'ZNF92P3',  'AC069257.6',  'WTAPP1',  'ZBED6CL',  'AC022210.2',  'AC010547.9',  'ZNF511-PRAP1',  'AC012358.4',  'AC010886.2',  'ZNF660',  'AC016582.2',  'AC098826.5',  'AC006011.4',  'AC005251.3',  'ABCB1',  'ZNF853',  'AC104534.3',  'ZYG11A',  'AC111155.1',  'AC008694.2',  'AC006509.7',  'AC016739.2',  'ZNF736P9Y',  'ACHE',  'AC255361.1',  'ZNF610',  'AC009060.1',  'ABHD12B',  'ZNF222',  'ZFP2',  'ZNF663P',  'ZNF234',  'AC007969.5',  'ZNF157',  'AC129778.2',  'ABCG4',  'AC127070.1',  'ZNF878',  'AC011933.2',  'YPEL4',  'AC004231.7',  'AB019441.29',  'AC009336.19',  'AC008914.1',  'AC213203.1',  'ZNF603P',  'AC008268.2',  'ZNF491',  'XRCC6P2',  'ZNF271P',  'ZNF625-ZNF20',  'AC241377.1',  'AC024592.12',  'ZFP91-CNTF',  'ZNF439',  'AC144530.1',  'AC005363.9',  'AC005682.6',  'ZNF563',  'ZNF395',  'ZDHHC8P1',  'AC110615.1',  'ZBTB39',  'ZNF577',  'AC255093.2',  'AC234582.1',  'ZNF614',  'AC108938.5',  'ZNF221',  'AC138517.6',  'ZNF462',  'ZNF777',  'WSCD1',  'ZNF428',  'ZCWPW2',  'ZNF668',  'ZNF547',  'AC023908.1',  'AC074141.1',  'ZNF66',  'ZNF180',  'AAMDC',  'AC002398.9',  'ZNF165',  'AC005307.3',  'ZNF569',  'AC004967.7',  'ZNF440',  'ZNF469',  'ZNF235',  'ZBTB45P1',  'AC010642.1',  'ABCC2',  'ZNF816-ZNF321P',  'ZNF630',  'ZNF790',  'ZNF845',  'AC098614.2',  'ABCA10',  'ZNF671',  'AC027612.6',  'ZNF35',  'ZFP82',  'ZNF28',  'ZNF256',  'ZNF836',  'ZNF365',  'ZNF763',  'ZSCAN25',  'AC129492.1',  'AC013268.3',  'XK',  'YIPF2',  'ZMYM5',  'ZNF69',  'ZNF676',  'ZFP3',  'ZNF501',  'ZFYVE27',  'ZNF787',  'ZFP42',  'ZNF385D',  'ZNF585A',  'ZNF284',  'ABCA13',  'ZNF23',  'ZNF208',  'ZSCAN9',  'ABCA12',  'ABHD15',  'ZNF572',  'ZNF71',  'AC084219.2',  'ZNF225',  'ZNF404',  'ZNF454',  'ZNF192P1',  'ZNF300P1',  'ZNF112',  'ZDHHC18',  'ZNF578',  'WTIP',  'ZNF628',  'ZBTB47',  'ZNF114',  'ACOT4',  'ZNF582',  'ZNF738',  'ZNF555',  'ZNF321P',  'ZNF750',  'ZNF724P',  'A2ML1',  'ZNF665',  'ABCA5',  'ZNF253',  'ZNF426',  'ZNF564',  'ZW10',  'ZSCAN12P1',  'WNT3',  'ZNF846',  'ZDHHC1',  'ZNF408',  'ZNF226',  'ACP2',  'ZNF296',  'ZNF675',  'ZNF732',  'ZNF876P',  'ZBTB45P2',  'ZNF730',  'ABHD17AP1',  'ZNF813',  'ZNF470',  'ZNF77',  'ZNF699',  'ZFP92',  'ZNF223',  'ZNF865',  'ZNF502',  'ZSCAN26',  'XRRA1',  'ABTB1',  'ABLIM3',  'AAED1',  'ZNF154',  'ZNF329',  'ZKSCAN7',  'YPEL3',  'ZNF492',  'ACCS',  'ZNF468',  'ZNF707',  'AC007325.2',  'ZFP69',  'ZNF488',  'ZNF607',  'ZNF560',  'WNT9A',  'ZNF662',  'ZNF570',  'ZFP64',  'ABCG1',  'ZFAND2A',  'ZNF281',  'ZBTB9',  'ZNF682',  'WNK4',  'ZNF681',  'ZNF649',  'ZMYM3',  'AC241585.1',  'ZNF415',  'ZNF155',  'ABHD3',  'ZNF816',  'AC005943.2',  'ZNF292',  'ZSCAN12',  'ZNF311',  'ZNF710',  'ZNF594',  'XXBAC-BPG32J3.22',  'XRCC4',  'ZNF737',  'ZNF134',  'ZNF579',  'ZNF619',  'ZNF581',  'ZNF506',  'ZNF608',  'ZNF718',  'ZNF812P',  'WISP3',  'ZNF85',  'ZNF319',  'ZNF45',  'ZNF93',  'ABHD17C',  'XRCC6',  'ZNF860',  'YIPF5',  'AC093616.4',  'XPO4',  'ZNF407',  'ABHD17A',  'XXBAC-BPG246D15.9',  'AAMP',  'ZNF135',  'ZGPAT',  'ZFP28',  'ZNF826P',  'ZNF736',  'ZNF514',  'ZNF117',  'ZNF257',  'ZNF880',  'ABCG2',  'ZNF224',  'AC012314.1',  'AC012314.6',  'AC012314.3',  'AC012314.2',  'AC012314.4',  'AC012314.5',  'ZNF100',  'ZNF561',  'AC011043.1',  'ZNHIT1',  'ABCC10',  'ZC3H3',  'ZNF626',  'ZNF354C',  'ZNRD1',  'ZBTB2',  'ABCF1',  'ZNF229',  'ZNF526',  'ZIK1',  'ZNF593',  'ACAA2',  'ZNF320',  'XRCC1',  'ZNF528',  'ZNF334',  'ZSWIM4',  'XPO5',  'ZNF841',  'ZNF90',  'AATF',  'ZNF827',  'ZNF347',  'ZBTB7A',  'ZNF436',  'XG',  'ABHD13',  'ZC3H18',  'WNT5B',  'ZMAT3',  'ZNF585B',  'YDJC',  'ZNF43',  'ZNF618',  'ZSWIM6',  'ZNF558',  'ZNF697',  'ZC3H4',  'WNT7B',  'ZC3H7A',  'ABT1',  'ZFAND3',  'ZNF503',  'ZDHHC6',  'ZNF702P',  'WNT5A',  'ZNF793',  'ZC3H12C',  'ZNF496',  'ABCF2',  'ZNF274',  'ZNF677',  'A4GALT',  'ZNF486',  'ACP5',  'ZNF22',  'XPR1',  'ZDHHC16',  'ZNFX1',  'ZNF160',  'ZNF432',  'ZNF574',  'ABI2',  'XYLT1',  'ZNF532',  'ACD',  'ZNF516',  'YAP1',  'ZFP36',  'YPEL5',  'ACO1',  'ZSCAN18',  'ABLIM1',  'XRCC5',  'ABI1',  'ZNF219',  'AC004057.1',  'ZDHHC7',  'YES1',  'ABL1',  'WSB1',  'ACER3',  'ABRACL',  'ZNF185',  'ZNF629',  'XPO1',  'YIPF3',  'ZC3H13',  'ACOT9',  'XYLT2',  'WWC2',  'ZDHHC8',  'XDH',  'ZBTB38',  'ABL2',  'ABCC3',  'YKT6',  'AC013461.1',  'ZBTB4',  'ZNF655',  'WWTR1',  'ABCE1',  'XRN2',  'WLS',  'WNT7A',  'ZNF385A',  'ZBED2',  'YME1L1',  'ABCA1',  'ZC3H7B',  'YWHAB',  'ACOT7',  'YBX3',  'ACAT2',  'YWHAG',  'YWHAH',  'YWHAQ',  'ACLY',  'ZFP36L2',  'ZFP36L1',  'ZYX',  'YWHAZ']"
      ],
      "metadata": {
        "id": "OA6tbrAu81sF"
      },
      "execution_count": null,
      "outputs": []
    },
    {
      "cell_type": "code",
      "source": [
        "def upperGenes(genes):\n",
        "    # The app uses uppercase gene symbols. So it is crucial to perform upperGenes() step.\n",
        "    return [gene.upper() for gene in genes]"
      ],
      "metadata": {
        "id": "o06fBVECeIsG"
      },
      "execution_count": null,
      "outputs": []
    },
    {
      "cell_type": "code",
      "execution_count": null,
      "metadata": {
        "id": "p6XKwhQM7Gqg"
      },
      "outputs": [],
      "source": [
        "url = 'https://maayanlab.cloud/L1000CDS2/query'\n",
        "\n",
        "# gene-set search example\n",
        "data = {\"upGenes\":upperGenes(up_genes), \"dnGenes\":upperGenes(down_genes)}\n",
        "config = {\"aggravate\":True,\"searchMethod\":\"geneSet\",\"share\":True,\"combination\":False,\"db-version\":\"latest\"}\n",
        "payload = {\"data\":data,\"config\":config}\n",
        "headers = {'content-type':'application/json'}\n",
        "r = requests.post(url,data=json.dumps(payload),headers=headers)\n",
        "resGeneSet = r.json()\n"
      ]
    },
    {
      "cell_type": "markdown",
      "source": [
        "결과로 나온 resGeneSet 를 출력해보겠습니다."
      ],
      "metadata": {
        "id": "eW1_QDB6JfZv"
      }
    },
    {
      "cell_type": "code",
      "source": [
        "resGeneSet"
      ],
      "metadata": {
        "id": "4aR3UJjFI2KJ"
      },
      "execution_count": null,
      "outputs": []
    },
    {
      "cell_type": "markdown",
      "source": [
        "결과를 데이터프레임으로 바꾸어 읽기좋게 해보겠습니다"
      ],
      "metadata": {
        "id": "NvaQ4-UBJiyk"
      }
    },
    {
      "cell_type": "code",
      "source": [
        "l1000cds2_result = pd.DataFrame.from_dict(resGeneSet['topMeta'])\n",
        "display(l1000cds2_result)"
      ],
      "metadata": {
        "id": "M8Mugk8c_UEe"
      },
      "execution_count": null,
      "outputs": []
    },
    {
      "cell_type": "markdown",
      "source": [
        "# L1000FWD 실습\n",
        "https://maayanlab.cloud/l1000fwd/"
      ],
      "metadata": {
        "id": "ixaX20A3MQEI"
      }
    },
    {
      "cell_type": "code",
      "source": [
        "from IPython.display import HTML, display, Markdown, IFrame\n",
        "\n",
        "def run_l1000fwd(up_genes, down_genes):\n",
        "    # Define results\n",
        "    l1000fwd_results = {}\n",
        "\n",
        "    # Define upperGenes Function\n",
        "    upperGenes = lambda genes: [gene.upper() for gene in genes]\n",
        "\n",
        "    # Get Data\n",
        "    payload = {\"up_genes\":upperGenes(up_genes),\"down_genes\":upperGenes(down_genes)}\n",
        "\n",
        "    # Get URL\n",
        "    L1000FWD_URL = 'https://maayanlab.cloud/l1000fwd/'\n",
        "\n",
        "    # Get result\n",
        "    response = requests.post(L1000FWD_URL + 'sig_search', json=payload)\n",
        "    if 'KeyError' in response.text:\n",
        "        l1000fwd_results['result_url'] = None\n",
        "    else:\n",
        "        # Get ID and URL\n",
        "        result_id = response.json()['result_id']\n",
        "        l1000fwd_results['result_url'] = 'https://maayanlab.cloud/l1000fwd/vanilla/result/'+result_id\n",
        "        l1000fwd_results['result_id'] = result_id\n",
        "\n",
        "        # Get Top\n",
        "        l1000fwd_results['signatures'] = requests.get(L1000FWD_URL + 'result/topn/' + result_id).json()\n",
        "\n",
        "\n",
        "    # Return\n",
        "    return l1000fwd_results\n",
        "\n",
        "def plot_l1000fwd(l1000fwd_results):\n",
        "\n",
        "    # Check if results\n",
        "    if l1000fwd_results['result_url']:\n",
        "\n",
        "        display(IFrame(l1000fwd_results['result_url'], width=\"1000\", height=\"1000\"))\n",
        "        # Display tables\n",
        "        for direction, signature_list in l1000fwd_results['signatures'].items():\n",
        "\n",
        "            # Fix dataframe\n",
        "            rename_dict = {'sig_id': 'Signature ID', 'pvals': 'P-value', 'qvals': 'FDR', 'zscores': 'Z-score', 'combined_scores': 'Combined Score'}\n",
        "            signature_dataframe = pd.DataFrame(signature_list)[list(rename_dict.keys())].rename(columns=rename_dict).sort_values('P-value').rename_axis('Rank')\n",
        "            signature_dataframe.index = [x + 1 for x in range(len(signature_dataframe.index))]\n",
        "\n",
        "            # Display table\n",
        "            signature_dataframe['Signature ID'] = ['<a href=\"http://maayanlab.cloud/dmoa/sig/{x}\" target=\"_blank\">{x}</a>'.format(**locals()) for x in signature_dataframe['Signature ID']]\n",
        "            table_html = signature_dataframe.to_html(escape=False, classes='w-100')\n",
        "\n",
        "            display(HTML('<style>.w-100{{width: 100% !important;}}</style><div style=\"max-height: 250px; overflow-y: auto; margin-bottom: 25px;\">{}</div>'.format(table_html)))\n",
        "\n",
        "\n"
      ],
      "metadata": {
        "id": "f_5EapR_MibE"
      },
      "execution_count": null,
      "outputs": []
    },
    {
      "cell_type": "code",
      "source": [
        "l1000fwd_result = run_l1000fwd(up_genes, down_genes)"
      ],
      "metadata": {
        "id": "KT56OdbJNVK3"
      },
      "execution_count": null,
      "outputs": []
    },
    {
      "cell_type": "markdown",
      "source": [
        "결과를 출력해보겠습니다"
      ],
      "metadata": {
        "id": "zQ4Vhulhq3TB"
      }
    },
    {
      "cell_type": "code",
      "source": [
        "plot_l1000fwd(l1000fwd_result)"
      ],
      "metadata": {
        "id": "hp74UYGeNwuN"
      },
      "execution_count": null,
      "outputs": []
    },
    {
      "cell_type": "markdown",
      "source": [
        "# SigCom LINCS\n",
        "https://maayanlab.cloud/sigcom-lincs/#/SignatureSearch/UpDown\n",
        "\n",
        "https://maayanlab.cloud/sigcom-lincs/#/Help"
      ],
      "metadata": {
        "id": "bx2Lr6gOPyuf"
      }
    },
    {
      "cell_type": "markdown",
      "source": [
        "Step 1: Convert gene names to UUIDs using the metadata API"
      ],
      "metadata": {
        "id": "AuPKlvv0wmW5"
      }
    },
    {
      "cell_type": "code",
      "source": [
        "import requests\n",
        "import json\n",
        "\n",
        "METADATA_API = \"https://maayanlab.cloud/sigcom-lincs/metadata-api/\"\n",
        "DATA_API = \"https://maayanlab.cloud/sigcom-lincs/data-api/api/v1/\"\n",
        "\n",
        "input_gene_set = {\n",
        "    \"up_genes\": up_genes,\n",
        "    \"down_genes\": down_genes\n",
        "}\n",
        "\n",
        "all_genes = input_gene_set[\"up_genes\"] + input_gene_set[\"down_genes\"]\n",
        "\n",
        "payload = {\n",
        "    \"filter\": {\n",
        "        \"where\": {\n",
        "            \"meta.symbol\": {\n",
        "                \"inq\": all_genes\n",
        "            }\n",
        "        },\n",
        "        \"fields\": [\"id\", \"meta.symbol\"]\n",
        "    }\n",
        "}\n",
        "res = requests.post(METADATA_API + \"entities/find\", json=payload)\n",
        "entities = res.json()\n",
        "\n",
        "for_enrichment = {\n",
        "    \"up_entities\": [],\n",
        "    \"down_entities\": []\n",
        "}\n",
        "\n",
        "for e in entities:\n",
        "    symbol = e[\"meta\"][\"symbol\"]\n",
        "    if symbol in input_gene_set[\"up_genes\"]:\n",
        "        for_enrichment[\"up_entities\"].append(e[\"id\"])\n",
        "    elif symbol in input_gene_set[\"down_genes\"]:\n",
        "        for_enrichment[\"down_entities\"].append(e[\"id\"])\n",
        "\n",
        "print(json.dumps(for_enrichment, indent=2))\n"
      ],
      "metadata": {
        "id": "-RWIeLk6NX0l"
      },
      "execution_count": null,
      "outputs": []
    },
    {
      "cell_type": "markdown",
      "source": [
        "Step 2 Save your input to obtain a persistent id/url for your analysis\n",
        "\n",
        "This step allows you to obtain a persistent url for your analysis that you can use to view your results on the SigCom LINCS website."
      ],
      "metadata": {
        "id": "gOgoE7BKwssF"
      }
    },
    {
      "cell_type": "code",
      "source": [
        "payload = {\n",
        "    \"meta\": {\n",
        "        \"$validator\": \"/dcic/signature-commons-schema/v6/meta/user_input/user_input.json\",\n",
        "        **for_enrichment\n",
        "    },\n",
        "    \"type\": \"signature\"\n",
        "}\n",
        "res = requests.post(METADATA_API + \"user_input\", json=payload)\n",
        "persistent_id = res.json()[\"id\"]\n",
        "print(\"Access your analysis here: https://maayanlab.cloud/sigcom-lincs#/SignatureSearch/Rank/%s\"%persistent_id)"
      ],
      "metadata": {
        "id": "PJ-btCcdWafa"
      },
      "execution_count": null,
      "outputs": []
    },
    {
      "cell_type": "code",
      "source": [],
      "metadata": {
        "id": "7lvH4ML3wytz"
      },
      "execution_count": null,
      "outputs": []
    }
  ]
}